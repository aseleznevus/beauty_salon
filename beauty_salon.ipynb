{
  "nbformat": 4,
  "nbformat_minor": 0,
  "metadata": {
    "colab": {
      "provenance": [],
      "toc_visible": true,
      "collapsed_sections": [
        "3RJ3IF9xCvVP"
      ],
      "authorship_tag": "ABX9TyOTsIec+Gq2dsHkeR4auWyC",
      "include_colab_link": true
    },
    "kernelspec": {
      "name": "python3",
      "display_name": "Python 3"
    },
    "language_info": {
      "name": "python"
    }
  },
  "cells": [
    {
      "cell_type": "markdown",
      "metadata": {
        "id": "view-in-github",
        "colab_type": "text"
      },
      "source": [
        "<a href=\"https://colab.research.google.com/github/aseleznevus/beauty_salon/blob/Main/beauty_salon.ipynb\" target=\"_parent\"><img src=\"https://colab.research.google.com/assets/colab-badge.svg\" alt=\"Open In Colab\"/></a>"
      ]
    },
    {
      "cell_type": "markdown",
      "source": [
        "#Анализ эффективности маркетинга салона красоты"
      ],
      "metadata": {
        "id": "5rkOe9Tp1a0y"
      }
    },
    {
      "cell_type": "markdown",
      "source": [
        "## 0. Задание"
      ],
      "metadata": {
        "id": "M-zDtOZ7KjVX"
      }
    },
    {
      "cell_type": "markdown",
      "source": [
        "### 1. Основное задание\n",
        "\n",
        "В данной задаче в рамках тестового задания необходимо построить сквозную аналитику для салона красоты. У салона есть реклама в онлайне и сайт, через который можно оставить заявку на услугу. \n",
        "\n",
        "При помощи сквозной аналитики нужно проследить путь от клика по рекламному объявлению до покупки и, таким образом, оценить эффективность маркетинга. \n",
        "\n",
        "Клик по рекламе трансформируется в лид (заявку), а лид превращается в клиента, который уже может совершить некоторое количество покупок.\n",
        "\n",
        "Необходимо подготовить данные для отчета по сквозной аналитике. Для решения можно использовать на выбор: SQL или Python (Pandas). \n",
        "\n",
        "Данные поступают на вход в виде 3 csv файлов:\n",
        "\n",
        "- ads.csv\n",
        "- leads.csv\n",
        "- purchases.csv\n",
        "\n",
        "[Скачать данные можно здесь](https://drive.google.com/drive/folders/1MjYyPUqfqqLBPwf2GIDhUEa0Qdbk7gIS?usp=sharing)\n"
      ],
      "metadata": {
        "id": "O2es0qJwKnnF"
      }
    },
    {
      "cell_type": "markdown",
      "source": [
        "### Связи\n",
        "\n",
        "Связь между рекламой и заявкой определяется через utm метки - если набор меток из рекламного объявления совпадает с тем набором, который есть в заявке, то мы можем определить сколько денег было потрачено на привлечение этого лида \n",
        "\n",
        "Связь между лидом и продажами определяется через client_id.\n",
        "\n",
        "[https://drawsql.app/teams/xo/diagrams/1/embed](https://drawsql.app/teams/xo/diagrams/1/embed)\n",
        "\n",
        "**Атрибуция лид - покупка**\n",
        "\n",
        "Каждому лиду “в зачет” идут только те покупки, которые клиент сделал в первые 15 дней после создания заявки. Из-за особенности бизнеса соотношение лидов и продаж - многие ко многим. Существующий клиент может купить услугу повторно через заведение новой заявки, а может создать две заявки подряд и после этого сделать покупку. \n",
        "\n",
        "**Чтобы однозначно атрибутировать продажи к лидам мы подготовили примеры:**\n",
        "\n",
        "1. У клиента несколько лидов подряд, а затем продажа. Продажа засчитывается последнему лиду, который был создан не позже, чем 15 дней до. \n",
        "\n",
        "![Mind Map.jpg](https://s3-us-west-2.amazonaws.com/secure.notion-static.com/f4be5e84-25bb-4a23-b9a0-a9f0ca39f8a9/Mind_Map.jpg)\n",
        "\n",
        "1. У клиента несколько лидов подряд, а затем продажа. Продажа не засчитывается ни одному лиду, тк была создана позже 15 дней после последнего лида.\n",
        "\n",
        "![Mind Map (1).jpg](https://s3-us-west-2.amazonaws.com/secure.notion-static.com/bbe06478-446f-4bc5-b6b1-588494815d3a/Mind_Map_(1).jpg)\n",
        "\n",
        "2. У клиента несколько лидов подряд, а затем продажа. Продажа засчитывается последнему лиду, который был создан не позже, чем 15 дней до. \n",
        "\n",
        "![Mind Map (2).jpg](https://s3-us-west-2.amazonaws.com/secure.notion-static.com/f1368141-9f66-48ce-b0dd-20b3e308b60d/Mind_Map_(2).jpg)\n",
        "\n",
        "1. У клиента несколько лидов и продаж вперемешку. Каждая продажа засчитывается ближайшему по времени лиду.\n",
        "    \n",
        "    ![Mind Map (3).jpg](https://s3-us-west-2.amazonaws.com/secure.notion-static.com/befc0260-48b3-48c0-8162-00308b12678d/Mind_Map_(3).jpg)\n",
        "    \n",
        "** ! Обратите внимание**\n",
        "\n",
        "- Постарайтесь не использовать циклы, если вы пишете на pandas. В 99% случаев они вам не нужны.\n",
        "- В данных могут быть дубли, а также логические несоответствия. В случае выявления подобного - очистите данные по своему усмотрению и укажите это в Комментарии.\n",
        "- Не для каждого рекламного показа может быть заведена заявка, даже если деньги на нее потрачены.\n",
        "- Оформляйте код так, чтобы его было легко читать, масштабировать и переиспользовать (ООП)"
      ],
      "metadata": {
        "id": "c69wec2BLLHe"
      }
    },
    {
      "cell_type": "markdown",
      "source": [
        "### 2. Дополнительные задания\n",
        "\n",
        "- [ ]  Вывести результат в Looker Studio. В этом случае метрики CPL и ROAS создайте в виде вычисляемых полей.\n",
        "    - Для референса можно использовать:\n",
        "        \n",
        "        ![d;lkmdsa;dlk.PNG](https://s3-us-west-2.amazonaws.com/secure.notion-static.com/6de0c729-b2c3-497d-ac79-29b5c2a120ea/dlkmdsadlk.png)\n",
        "        \n",
        "- [ ]  Покрыть пайплайн тестами и проверками на Data quality.\n",
        "- [ ]  Поднять БД PostgreSQL, залить сырые данные и построить пайплайн так, чтобы читать и записывать данные из/в БД.\n",
        "\n",
        "---"
      ],
      "metadata": {
        "id": "CA4pV7ULKn65"
      }
    },
    {
      "cell_type": "markdown",
      "source": [
        "### Итоговый результат\n",
        "\n",
        "1. Готовый отчет необходимо выгрузить в Google Spreadsheet и предоставить ссылку на него. \n",
        "    \n",
        "    **Набор полей в отчете**:\n",
        "    \n",
        "    **Dimensions**\n",
        "    \n",
        "    - Дата\n",
        "    - UTM source\n",
        "    - UTM medium\n",
        "    - UTM campaign\n",
        "        \n",
        "        **Metrics**\n",
        "        \n",
        "    - Количество кликов\n",
        "    - Расходы на рекламу\n",
        "    - Количество лидов\n",
        "    - Количество покупок\n",
        "    - Выручка от продаж\n",
        "    - CPL  - Расходы/Количество лидов\n",
        "    - ROAS - Выручка/Расходы\n",
        "\n",
        "1. Код построения пайплайна необходимо выгрузить в Git репозиторий в виде .py файла и предоставить ссылку на репозиторий. Вы можете приложить решение в notebook, но это опционально. \n",
        "\n",
        "1. Результат по дополнительным заданиям (опционально): \n",
        "    - Приложите ссылку на отчет в Data Looker\n",
        "    - Опишите, какие проверки интегрировали в скрипт\n",
        "    - Приложите скрины из БД PostgreSQL с select запросами к сырым данным и отчету (4 скрина)"
      ],
      "metadata": {
        "id": "2tWybzahLPlv"
      }
    },
    {
      "cell_type": "markdown",
      "source": [
        "## 1. Предобработка данных"
      ],
      "metadata": {
        "id": "OJBHDzz51b0o"
      }
    },
    {
      "cell_type": "markdown",
      "source": [
        "### 1.1. Вводные данные"
      ],
      "metadata": {
        "id": "KljVd0oZ1vGU"
      }
    },
    {
      "cell_type": "markdown",
      "source": [
        "В работу взяты данные о рекламных компаниях, лидах и продажах для салона красоты. \n",
        "Есть реклама в онлайне и сайт, через который можно оставить заявку на услугу. \n",
        "\n",
        "Клик по рекламе трансформируется в лид (заявку), а лид превращается в клиента, который может совершить некоторое количество покупок.\n",
        "\n",
        "Период в течение которого лид должен становиться покупкой - 15 дней. Более длительные продажи не учитываются\n",
        "\n",
        "**Задача анализа:** оценить эффективность рекламных кампаний салона красоты."
      ],
      "metadata": {
        "id": "4TAOl9SR1yG2"
      }
    },
    {
      "cell_type": "markdown",
      "source": [
        "### 1.2. Подготовка данных"
      ],
      "metadata": {
        "id": "ak7pVK0-2Y5W"
      }
    },
    {
      "cell_type": "code",
      "source": [
        "#Используемые библиотеки\n",
        "import pandas as pd\n",
        "from datetime import datetime, timedelta\n",
        "from matplotlib import pyplot as plt"
      ],
      "metadata": {
        "id": "0d9RD0w50yVE"
      },
      "execution_count": 2,
      "outputs": []
    },
    {
      "cell_type": "code",
      "execution_count": 3,
      "metadata": {
        "colab": {
          "base_uri": "https://localhost:8080/"
        },
        "id": "x0V2XPH3z_Cf",
        "outputId": "a79b6f97-2d59-4ee9-cf4d-6fe3ec913681"
      },
      "outputs": [
        {
          "output_type": "stream",
          "name": "stdout",
          "text": [
            "/usr/local/lib/python3.7/dist-packages/gdown/cli.py:131: FutureWarning: Option `--id` was deprecated in version 4.3.1 and will be removed in 5.0. You don't need to pass it anymore to use a file ID.\n",
            "  category=FutureWarning,\n",
            "Downloading...\n",
            "From: https://drive.google.com/uc?id=1KKA88zHcg9NLfrjMp9gWzYnj8MbI6NZP\n",
            "To: /content/ads.csv\n",
            "100% 612k/612k [00:00<00:00, 153MB/s]\n",
            "/usr/local/lib/python3.7/dist-packages/gdown/cli.py:131: FutureWarning: Option `--id` was deprecated in version 4.3.1 and will be removed in 5.0. You don't need to pass it anymore to use a file ID.\n",
            "  category=FutureWarning,\n",
            "Downloading...\n",
            "From: https://drive.google.com/uc?id=1b2I7GHfv09eck1LBK4dmNBOLemRuUTf-\n",
            "To: /content/leads.csv\n",
            "100% 2.22M/2.22M [00:00<00:00, 162MB/s]\n",
            "/usr/local/lib/python3.7/dist-packages/gdown/cli.py:131: FutureWarning: Option `--id` was deprecated in version 4.3.1 and will be removed in 5.0. You don't need to pass it anymore to use a file ID.\n",
            "  category=FutureWarning,\n",
            "Downloading...\n",
            "From: https://drive.google.com/uc?id=1OIrLxvrngEb2qewCa7r4Uy4ZbK5vsZUG\n",
            "To: /content/purchases.csv\n",
            "100% 6.02M/6.02M [00:00<00:00, 177MB/s]\n"
          ]
        }
      ],
      "source": [
        "#Прогрузим данные\n",
        "#ads\n",
        "! gdown --id 1KKA88zHcg9NLfrjMp9gWzYnj8MbI6NZP\n",
        "\n",
        "#leads\n",
        "! gdown --id 1b2I7GHfv09eck1LBK4dmNBOLemRuUTf-\n",
        "\n",
        "#purchases\n",
        "! gdown --id 1OIrLxvrngEb2qewCa7r4Uy4ZbK5vsZUG"
      ]
    },
    {
      "cell_type": "code",
      "source": [
        "ads = pd.read_csv('/content/ads.csv')\n",
        "leads = pd.read_csv('/content/leads.csv')\n",
        "purchases = pd.read_csv('/content/purchases.csv')"
      ],
      "metadata": {
        "id": "vHMntJrt1BYg"
      },
      "execution_count": 4,
      "outputs": []
    },
    {
      "cell_type": "markdown",
      "source": [
        "### 1.3. Проверка данных"
      ],
      "metadata": {
        "id": "tYHsueWXDkkg"
      }
    },
    {
      "cell_type": "code",
      "source": [
        " #Проверим корректность предоставленных данных и внесем правки при необходимости.\n",
        " ads.head(5)"
      ],
      "metadata": {
        "colab": {
          "base_uri": "https://localhost:8080/",
          "height": 206
        },
        "id": "_gh6B3jt1VR8",
        "outputId": "bf2362bd-9041-4d2b-dfe9-5346b6bbdc95"
      },
      "execution_count": 5,
      "outputs": [
        {
          "output_type": "execute_result",
          "data": {
            "text/plain": [
              "   created_at   d_ad_account_id d_utm_source d_utm_medium  d_utm_campaign  \\\n",
              "0  2022-08-08  xo-for-client-ya       yandex          cpc        48306435   \n",
              "1  2022-08-08  xo-for-client-ya       yandex          cpc        48306435   \n",
              "2  2022-08-08  xo-for-client-ya       yandex          cpc        48306435   \n",
              "3  2022-08-08  xo-for-client-ya       yandex          cpc        48306435   \n",
              "4  2022-08-08  xo-for-client-ya       yandex          cpc        48306435   \n",
              "\n",
              "   d_utm_content  d_utm_term  m_clicks   m_cost  \n",
              "0     8404700756         NaN       2.0   48.840  \n",
              "1     8813476161         NaN       3.0  100.776  \n",
              "2     8813476162         NaN       1.0   10.140  \n",
              "3     8813476163         NaN       0.0    0.000  \n",
              "4     8813476164         NaN       0.0    0.000  "
            ],
            "text/html": [
              "\n",
              "  <div id=\"df-7012f6bd-ce67-49ad-a2a8-24b8f3d8d30a\">\n",
              "    <div class=\"colab-df-container\">\n",
              "      <div>\n",
              "<style scoped>\n",
              "    .dataframe tbody tr th:only-of-type {\n",
              "        vertical-align: middle;\n",
              "    }\n",
              "\n",
              "    .dataframe tbody tr th {\n",
              "        vertical-align: top;\n",
              "    }\n",
              "\n",
              "    .dataframe thead th {\n",
              "        text-align: right;\n",
              "    }\n",
              "</style>\n",
              "<table border=\"1\" class=\"dataframe\">\n",
              "  <thead>\n",
              "    <tr style=\"text-align: right;\">\n",
              "      <th></th>\n",
              "      <th>created_at</th>\n",
              "      <th>d_ad_account_id</th>\n",
              "      <th>d_utm_source</th>\n",
              "      <th>d_utm_medium</th>\n",
              "      <th>d_utm_campaign</th>\n",
              "      <th>d_utm_content</th>\n",
              "      <th>d_utm_term</th>\n",
              "      <th>m_clicks</th>\n",
              "      <th>m_cost</th>\n",
              "    </tr>\n",
              "  </thead>\n",
              "  <tbody>\n",
              "    <tr>\n",
              "      <th>0</th>\n",
              "      <td>2022-08-08</td>\n",
              "      <td>xo-for-client-ya</td>\n",
              "      <td>yandex</td>\n",
              "      <td>cpc</td>\n",
              "      <td>48306435</td>\n",
              "      <td>8404700756</td>\n",
              "      <td>NaN</td>\n",
              "      <td>2.0</td>\n",
              "      <td>48.840</td>\n",
              "    </tr>\n",
              "    <tr>\n",
              "      <th>1</th>\n",
              "      <td>2022-08-08</td>\n",
              "      <td>xo-for-client-ya</td>\n",
              "      <td>yandex</td>\n",
              "      <td>cpc</td>\n",
              "      <td>48306435</td>\n",
              "      <td>8813476161</td>\n",
              "      <td>NaN</td>\n",
              "      <td>3.0</td>\n",
              "      <td>100.776</td>\n",
              "    </tr>\n",
              "    <tr>\n",
              "      <th>2</th>\n",
              "      <td>2022-08-08</td>\n",
              "      <td>xo-for-client-ya</td>\n",
              "      <td>yandex</td>\n",
              "      <td>cpc</td>\n",
              "      <td>48306435</td>\n",
              "      <td>8813476162</td>\n",
              "      <td>NaN</td>\n",
              "      <td>1.0</td>\n",
              "      <td>10.140</td>\n",
              "    </tr>\n",
              "    <tr>\n",
              "      <th>3</th>\n",
              "      <td>2022-08-08</td>\n",
              "      <td>xo-for-client-ya</td>\n",
              "      <td>yandex</td>\n",
              "      <td>cpc</td>\n",
              "      <td>48306435</td>\n",
              "      <td>8813476163</td>\n",
              "      <td>NaN</td>\n",
              "      <td>0.0</td>\n",
              "      <td>0.000</td>\n",
              "    </tr>\n",
              "    <tr>\n",
              "      <th>4</th>\n",
              "      <td>2022-08-08</td>\n",
              "      <td>xo-for-client-ya</td>\n",
              "      <td>yandex</td>\n",
              "      <td>cpc</td>\n",
              "      <td>48306435</td>\n",
              "      <td>8813476164</td>\n",
              "      <td>NaN</td>\n",
              "      <td>0.0</td>\n",
              "      <td>0.000</td>\n",
              "    </tr>\n",
              "  </tbody>\n",
              "</table>\n",
              "</div>\n",
              "      <button class=\"colab-df-convert\" onclick=\"convertToInteractive('df-7012f6bd-ce67-49ad-a2a8-24b8f3d8d30a')\"\n",
              "              title=\"Convert this dataframe to an interactive table.\"\n",
              "              style=\"display:none;\">\n",
              "        \n",
              "  <svg xmlns=\"http://www.w3.org/2000/svg\" height=\"24px\"viewBox=\"0 0 24 24\"\n",
              "       width=\"24px\">\n",
              "    <path d=\"M0 0h24v24H0V0z\" fill=\"none\"/>\n",
              "    <path d=\"M18.56 5.44l.94 2.06.94-2.06 2.06-.94-2.06-.94-.94-2.06-.94 2.06-2.06.94zm-11 1L8.5 8.5l.94-2.06 2.06-.94-2.06-.94L8.5 2.5l-.94 2.06-2.06.94zm10 10l.94 2.06.94-2.06 2.06-.94-2.06-.94-.94-2.06-.94 2.06-2.06.94z\"/><path d=\"M17.41 7.96l-1.37-1.37c-.4-.4-.92-.59-1.43-.59-.52 0-1.04.2-1.43.59L10.3 9.45l-7.72 7.72c-.78.78-.78 2.05 0 2.83L4 21.41c.39.39.9.59 1.41.59.51 0 1.02-.2 1.41-.59l7.78-7.78 2.81-2.81c.8-.78.8-2.07 0-2.86zM5.41 20L4 18.59l7.72-7.72 1.47 1.35L5.41 20z\"/>\n",
              "  </svg>\n",
              "      </button>\n",
              "      \n",
              "  <style>\n",
              "    .colab-df-container {\n",
              "      display:flex;\n",
              "      flex-wrap:wrap;\n",
              "      gap: 12px;\n",
              "    }\n",
              "\n",
              "    .colab-df-convert {\n",
              "      background-color: #E8F0FE;\n",
              "      border: none;\n",
              "      border-radius: 50%;\n",
              "      cursor: pointer;\n",
              "      display: none;\n",
              "      fill: #1967D2;\n",
              "      height: 32px;\n",
              "      padding: 0 0 0 0;\n",
              "      width: 32px;\n",
              "    }\n",
              "\n",
              "    .colab-df-convert:hover {\n",
              "      background-color: #E2EBFA;\n",
              "      box-shadow: 0px 1px 2px rgba(60, 64, 67, 0.3), 0px 1px 3px 1px rgba(60, 64, 67, 0.15);\n",
              "      fill: #174EA6;\n",
              "    }\n",
              "\n",
              "    [theme=dark] .colab-df-convert {\n",
              "      background-color: #3B4455;\n",
              "      fill: #D2E3FC;\n",
              "    }\n",
              "\n",
              "    [theme=dark] .colab-df-convert:hover {\n",
              "      background-color: #434B5C;\n",
              "      box-shadow: 0px 1px 3px 1px rgba(0, 0, 0, 0.15);\n",
              "      filter: drop-shadow(0px 1px 2px rgba(0, 0, 0, 0.3));\n",
              "      fill: #FFFFFF;\n",
              "    }\n",
              "  </style>\n",
              "\n",
              "      <script>\n",
              "        const buttonEl =\n",
              "          document.querySelector('#df-7012f6bd-ce67-49ad-a2a8-24b8f3d8d30a button.colab-df-convert');\n",
              "        buttonEl.style.display =\n",
              "          google.colab.kernel.accessAllowed ? 'block' : 'none';\n",
              "\n",
              "        async function convertToInteractive(key) {\n",
              "          const element = document.querySelector('#df-7012f6bd-ce67-49ad-a2a8-24b8f3d8d30a');\n",
              "          const dataTable =\n",
              "            await google.colab.kernel.invokeFunction('convertToInteractive',\n",
              "                                                     [key], {});\n",
              "          if (!dataTable) return;\n",
              "\n",
              "          const docLinkHtml = 'Like what you see? Visit the ' +\n",
              "            '<a target=\"_blank\" href=https://colab.research.google.com/notebooks/data_table.ipynb>data table notebook</a>'\n",
              "            + ' to learn more about interactive tables.';\n",
              "          element.innerHTML = '';\n",
              "          dataTable['output_type'] = 'display_data';\n",
              "          await google.colab.output.renderOutput(dataTable, element);\n",
              "          const docLink = document.createElement('div');\n",
              "          docLink.innerHTML = docLinkHtml;\n",
              "          element.appendChild(docLink);\n",
              "        }\n",
              "      </script>\n",
              "    </div>\n",
              "  </div>\n",
              "  "
            ]
          },
          "metadata": {},
          "execution_count": 5
        }
      ]
    },
    {
      "cell_type": "code",
      "source": [
        "ads.info()"
      ],
      "metadata": {
        "colab": {
          "base_uri": "https://localhost:8080/"
        },
        "id": "6hkdwPkfQplQ",
        "outputId": "540b9110-e44c-469f-e48e-a6abac1106d7"
      },
      "execution_count": 6,
      "outputs": [
        {
          "output_type": "stream",
          "name": "stdout",
          "text": [
            "<class 'pandas.core.frame.DataFrame'>\n",
            "RangeIndex: 8602 entries, 0 to 8601\n",
            "Data columns (total 9 columns):\n",
            " #   Column           Non-Null Count  Dtype  \n",
            "---  ------           --------------  -----  \n",
            " 0   created_at       8602 non-null   object \n",
            " 1   d_ad_account_id  8602 non-null   object \n",
            " 2   d_utm_source     8602 non-null   object \n",
            " 3   d_utm_medium     8602 non-null   object \n",
            " 4   d_utm_campaign   8602 non-null   int64  \n",
            " 5   d_utm_content    8602 non-null   int64  \n",
            " 6   d_utm_term       0 non-null      float64\n",
            " 7   m_clicks         8602 non-null   float64\n",
            " 8   m_cost           8602 non-null   float64\n",
            "dtypes: float64(3), int64(2), object(4)\n",
            "memory usage: 605.0+ KB\n"
          ]
        }
      ]
    },
    {
      "cell_type": "code",
      "source": [
        "leads.head()"
      ],
      "metadata": {
        "colab": {
          "base_uri": "https://localhost:8080/",
          "height": 530
        },
        "id": "EinZ_kPrEGW5",
        "outputId": "bb579200-fd0a-48f4-8694-1975d84389e2"
      },
      "execution_count": 7,
      "outputs": [
        {
          "output_type": "execute_result",
          "data": {
            "text/plain": [
              "  lead_created_at                               lead_id d_lead_utm_source  \\\n",
              "0      2022-10-16  d8c4a9e8-4d4a-11ed-907e-848f69e142cf               NaN   \n",
              "1      2022-10-16  c48f9767-4d4a-11ed-907e-848f69e142cf               NaN   \n",
              "2      2022-10-16  d74ac455-4d49-11ed-907e-848f69e142cf         vkontakte   \n",
              "3      2022-10-16  0f69e77d-4d46-11ed-907e-848f69e142cf               NaN   \n",
              "4      2022-10-16  620ee1eb-4d45-11ed-907e-848f69e142cf             ycard   \n",
              "\n",
              "  d_lead_utm_medium d_lead_utm_campaign d_lead_utm_content d_lead_utm_term  \\\n",
              "0               NaN                 NaN                NaN             NaN   \n",
              "1               NaN                 NaN                NaN             NaN   \n",
              "2            social       kartasetevaya                NaN             NaN   \n",
              "3               NaN                 NaN                NaN             NaN   \n",
              "4            social                 all                NaN             NaN   \n",
              "\n",
              "                              client_id  \n",
              "0  d8c4a9e9-4d4a-11ed-907e-848f69e142cf  \n",
              "1  c48f9768-4d4a-11ed-907e-848f69e142cf  \n",
              "2  f64c97d5-31ff-11ea-abeb-c412f533dba1  \n",
              "3                                   NaN  \n",
              "4                                   NaN  "
            ],
            "text/html": [
              "\n",
              "  <div id=\"df-0cea9703-5e24-4ce2-99aa-e5a107db18e6\">\n",
              "    <div class=\"colab-df-container\">\n",
              "      <div>\n",
              "<style scoped>\n",
              "    .dataframe tbody tr th:only-of-type {\n",
              "        vertical-align: middle;\n",
              "    }\n",
              "\n",
              "    .dataframe tbody tr th {\n",
              "        vertical-align: top;\n",
              "    }\n",
              "\n",
              "    .dataframe thead th {\n",
              "        text-align: right;\n",
              "    }\n",
              "</style>\n",
              "<table border=\"1\" class=\"dataframe\">\n",
              "  <thead>\n",
              "    <tr style=\"text-align: right;\">\n",
              "      <th></th>\n",
              "      <th>lead_created_at</th>\n",
              "      <th>lead_id</th>\n",
              "      <th>d_lead_utm_source</th>\n",
              "      <th>d_lead_utm_medium</th>\n",
              "      <th>d_lead_utm_campaign</th>\n",
              "      <th>d_lead_utm_content</th>\n",
              "      <th>d_lead_utm_term</th>\n",
              "      <th>client_id</th>\n",
              "    </tr>\n",
              "  </thead>\n",
              "  <tbody>\n",
              "    <tr>\n",
              "      <th>0</th>\n",
              "      <td>2022-10-16</td>\n",
              "      <td>d8c4a9e8-4d4a-11ed-907e-848f69e142cf</td>\n",
              "      <td>NaN</td>\n",
              "      <td>NaN</td>\n",
              "      <td>NaN</td>\n",
              "      <td>NaN</td>\n",
              "      <td>NaN</td>\n",
              "      <td>d8c4a9e9-4d4a-11ed-907e-848f69e142cf</td>\n",
              "    </tr>\n",
              "    <tr>\n",
              "      <th>1</th>\n",
              "      <td>2022-10-16</td>\n",
              "      <td>c48f9767-4d4a-11ed-907e-848f69e142cf</td>\n",
              "      <td>NaN</td>\n",
              "      <td>NaN</td>\n",
              "      <td>NaN</td>\n",
              "      <td>NaN</td>\n",
              "      <td>NaN</td>\n",
              "      <td>c48f9768-4d4a-11ed-907e-848f69e142cf</td>\n",
              "    </tr>\n",
              "    <tr>\n",
              "      <th>2</th>\n",
              "      <td>2022-10-16</td>\n",
              "      <td>d74ac455-4d49-11ed-907e-848f69e142cf</td>\n",
              "      <td>vkontakte</td>\n",
              "      <td>social</td>\n",
              "      <td>kartasetevaya</td>\n",
              "      <td>NaN</td>\n",
              "      <td>NaN</td>\n",
              "      <td>f64c97d5-31ff-11ea-abeb-c412f533dba1</td>\n",
              "    </tr>\n",
              "    <tr>\n",
              "      <th>3</th>\n",
              "      <td>2022-10-16</td>\n",
              "      <td>0f69e77d-4d46-11ed-907e-848f69e142cf</td>\n",
              "      <td>NaN</td>\n",
              "      <td>NaN</td>\n",
              "      <td>NaN</td>\n",
              "      <td>NaN</td>\n",
              "      <td>NaN</td>\n",
              "      <td>NaN</td>\n",
              "    </tr>\n",
              "    <tr>\n",
              "      <th>4</th>\n",
              "      <td>2022-10-16</td>\n",
              "      <td>620ee1eb-4d45-11ed-907e-848f69e142cf</td>\n",
              "      <td>ycard</td>\n",
              "      <td>social</td>\n",
              "      <td>all</td>\n",
              "      <td>NaN</td>\n",
              "      <td>NaN</td>\n",
              "      <td>NaN</td>\n",
              "    </tr>\n",
              "  </tbody>\n",
              "</table>\n",
              "</div>\n",
              "      <button class=\"colab-df-convert\" onclick=\"convertToInteractive('df-0cea9703-5e24-4ce2-99aa-e5a107db18e6')\"\n",
              "              title=\"Convert this dataframe to an interactive table.\"\n",
              "              style=\"display:none;\">\n",
              "        \n",
              "  <svg xmlns=\"http://www.w3.org/2000/svg\" height=\"24px\"viewBox=\"0 0 24 24\"\n",
              "       width=\"24px\">\n",
              "    <path d=\"M0 0h24v24H0V0z\" fill=\"none\"/>\n",
              "    <path d=\"M18.56 5.44l.94 2.06.94-2.06 2.06-.94-2.06-.94-.94-2.06-.94 2.06-2.06.94zm-11 1L8.5 8.5l.94-2.06 2.06-.94-2.06-.94L8.5 2.5l-.94 2.06-2.06.94zm10 10l.94 2.06.94-2.06 2.06-.94-2.06-.94-.94-2.06-.94 2.06-2.06.94z\"/><path d=\"M17.41 7.96l-1.37-1.37c-.4-.4-.92-.59-1.43-.59-.52 0-1.04.2-1.43.59L10.3 9.45l-7.72 7.72c-.78.78-.78 2.05 0 2.83L4 21.41c.39.39.9.59 1.41.59.51 0 1.02-.2 1.41-.59l7.78-7.78 2.81-2.81c.8-.78.8-2.07 0-2.86zM5.41 20L4 18.59l7.72-7.72 1.47 1.35L5.41 20z\"/>\n",
              "  </svg>\n",
              "      </button>\n",
              "      \n",
              "  <style>\n",
              "    .colab-df-container {\n",
              "      display:flex;\n",
              "      flex-wrap:wrap;\n",
              "      gap: 12px;\n",
              "    }\n",
              "\n",
              "    .colab-df-convert {\n",
              "      background-color: #E8F0FE;\n",
              "      border: none;\n",
              "      border-radius: 50%;\n",
              "      cursor: pointer;\n",
              "      display: none;\n",
              "      fill: #1967D2;\n",
              "      height: 32px;\n",
              "      padding: 0 0 0 0;\n",
              "      width: 32px;\n",
              "    }\n",
              "\n",
              "    .colab-df-convert:hover {\n",
              "      background-color: #E2EBFA;\n",
              "      box-shadow: 0px 1px 2px rgba(60, 64, 67, 0.3), 0px 1px 3px 1px rgba(60, 64, 67, 0.15);\n",
              "      fill: #174EA6;\n",
              "    }\n",
              "\n",
              "    [theme=dark] .colab-df-convert {\n",
              "      background-color: #3B4455;\n",
              "      fill: #D2E3FC;\n",
              "    }\n",
              "\n",
              "    [theme=dark] .colab-df-convert:hover {\n",
              "      background-color: #434B5C;\n",
              "      box-shadow: 0px 1px 3px 1px rgba(0, 0, 0, 0.15);\n",
              "      filter: drop-shadow(0px 1px 2px rgba(0, 0, 0, 0.3));\n",
              "      fill: #FFFFFF;\n",
              "    }\n",
              "  </style>\n",
              "\n",
              "      <script>\n",
              "        const buttonEl =\n",
              "          document.querySelector('#df-0cea9703-5e24-4ce2-99aa-e5a107db18e6 button.colab-df-convert');\n",
              "        buttonEl.style.display =\n",
              "          google.colab.kernel.accessAllowed ? 'block' : 'none';\n",
              "\n",
              "        async function convertToInteractive(key) {\n",
              "          const element = document.querySelector('#df-0cea9703-5e24-4ce2-99aa-e5a107db18e6');\n",
              "          const dataTable =\n",
              "            await google.colab.kernel.invokeFunction('convertToInteractive',\n",
              "                                                     [key], {});\n",
              "          if (!dataTable) return;\n",
              "\n",
              "          const docLinkHtml = 'Like what you see? Visit the ' +\n",
              "            '<a target=\"_blank\" href=https://colab.research.google.com/notebooks/data_table.ipynb>data table notebook</a>'\n",
              "            + ' to learn more about interactive tables.';\n",
              "          element.innerHTML = '';\n",
              "          dataTable['output_type'] = 'display_data';\n",
              "          await google.colab.output.renderOutput(dataTable, element);\n",
              "          const docLink = document.createElement('div');\n",
              "          docLink.innerHTML = docLinkHtml;\n",
              "          element.appendChild(docLink);\n",
              "        }\n",
              "      </script>\n",
              "    </div>\n",
              "  </div>\n",
              "  "
            ]
          },
          "metadata": {},
          "execution_count": 7
        }
      ]
    },
    {
      "cell_type": "code",
      "source": [
        "leads.info()"
      ],
      "metadata": {
        "colab": {
          "base_uri": "https://localhost:8080/"
        },
        "id": "BXPhkzQEQ2gK",
        "outputId": "b63db133-17fc-4854-8d50-bb18e7c246d9"
      },
      "execution_count": 8,
      "outputs": [
        {
          "output_type": "stream",
          "name": "stdout",
          "text": [
            "<class 'pandas.core.frame.DataFrame'>\n",
            "RangeIndex: 23540 entries, 0 to 23539\n",
            "Data columns (total 8 columns):\n",
            " #   Column               Non-Null Count  Dtype \n",
            "---  ------               --------------  ----- \n",
            " 0   lead_created_at      23540 non-null  object\n",
            " 1   lead_id              23540 non-null  object\n",
            " 2   d_lead_utm_source    12331 non-null  object\n",
            " 3   d_lead_utm_medium    10100 non-null  object\n",
            " 4   d_lead_utm_campaign  9569 non-null   object\n",
            " 5   d_lead_utm_content   3338 non-null   object\n",
            " 6   d_lead_utm_term      328 non-null    object\n",
            " 7   client_id            18601 non-null  object\n",
            "dtypes: object(8)\n",
            "memory usage: 1.4+ MB\n"
          ]
        }
      ]
    },
    {
      "cell_type": "code",
      "source": [
        "purchases.head()"
      ],
      "metadata": {
        "colab": {
          "base_uri": "https://localhost:8080/",
          "height": 206
        },
        "id": "uqCqoB7JETVF",
        "outputId": "fc88a23b-85e8-4343-ab02-31d1c5235422"
      },
      "execution_count": 9,
      "outputs": [
        {
          "output_type": "execute_result",
          "data": {
            "text/plain": [
              "  purchase_created_at                           purchase_id  \\\n",
              "0          2022-02-21  d3198d39-6d16-40c9-bff7-aa28bd6e2991   \n",
              "1          2022-02-21  48a0ad24-77aa-4064-a971-dd0d6f1f6c50   \n",
              "2          2022-02-21  267ff20f-a56c-480a-b2f7-1f7b1a746f9f   \n",
              "3          2022-02-21  19fba5f0-785d-45bd-903a-34ba529c6404   \n",
              "4          2022-02-21  00ac921d-32e3-4200-9435-a46d5fef4a29   \n",
              "\n",
              "                              client_id  m_purchase_amount  \n",
              "0  7011bdcd-6fd8-11e7-80fc-c412f533dba1             9950.0  \n",
              "1  a2771bb0-6fd6-11e7-80fc-c412f533dba1             8700.0  \n",
              "2  2687f503-6fd7-11e7-80fc-c412f533dba1                0.0  \n",
              "3  01122a97-45bc-11eb-ac23-c412f533dba1             8700.0  \n",
              "4  a55b8c4e-d5a3-11e9-abbe-c412f533dba1              500.0  "
            ],
            "text/html": [
              "\n",
              "  <div id=\"df-55231448-b3ce-4f41-98de-9cb685a51200\">\n",
              "    <div class=\"colab-df-container\">\n",
              "      <div>\n",
              "<style scoped>\n",
              "    .dataframe tbody tr th:only-of-type {\n",
              "        vertical-align: middle;\n",
              "    }\n",
              "\n",
              "    .dataframe tbody tr th {\n",
              "        vertical-align: top;\n",
              "    }\n",
              "\n",
              "    .dataframe thead th {\n",
              "        text-align: right;\n",
              "    }\n",
              "</style>\n",
              "<table border=\"1\" class=\"dataframe\">\n",
              "  <thead>\n",
              "    <tr style=\"text-align: right;\">\n",
              "      <th></th>\n",
              "      <th>purchase_created_at</th>\n",
              "      <th>purchase_id</th>\n",
              "      <th>client_id</th>\n",
              "      <th>m_purchase_amount</th>\n",
              "    </tr>\n",
              "  </thead>\n",
              "  <tbody>\n",
              "    <tr>\n",
              "      <th>0</th>\n",
              "      <td>2022-02-21</td>\n",
              "      <td>d3198d39-6d16-40c9-bff7-aa28bd6e2991</td>\n",
              "      <td>7011bdcd-6fd8-11e7-80fc-c412f533dba1</td>\n",
              "      <td>9950.0</td>\n",
              "    </tr>\n",
              "    <tr>\n",
              "      <th>1</th>\n",
              "      <td>2022-02-21</td>\n",
              "      <td>48a0ad24-77aa-4064-a971-dd0d6f1f6c50</td>\n",
              "      <td>a2771bb0-6fd6-11e7-80fc-c412f533dba1</td>\n",
              "      <td>8700.0</td>\n",
              "    </tr>\n",
              "    <tr>\n",
              "      <th>2</th>\n",
              "      <td>2022-02-21</td>\n",
              "      <td>267ff20f-a56c-480a-b2f7-1f7b1a746f9f</td>\n",
              "      <td>2687f503-6fd7-11e7-80fc-c412f533dba1</td>\n",
              "      <td>0.0</td>\n",
              "    </tr>\n",
              "    <tr>\n",
              "      <th>3</th>\n",
              "      <td>2022-02-21</td>\n",
              "      <td>19fba5f0-785d-45bd-903a-34ba529c6404</td>\n",
              "      <td>01122a97-45bc-11eb-ac23-c412f533dba1</td>\n",
              "      <td>8700.0</td>\n",
              "    </tr>\n",
              "    <tr>\n",
              "      <th>4</th>\n",
              "      <td>2022-02-21</td>\n",
              "      <td>00ac921d-32e3-4200-9435-a46d5fef4a29</td>\n",
              "      <td>a55b8c4e-d5a3-11e9-abbe-c412f533dba1</td>\n",
              "      <td>500.0</td>\n",
              "    </tr>\n",
              "  </tbody>\n",
              "</table>\n",
              "</div>\n",
              "      <button class=\"colab-df-convert\" onclick=\"convertToInteractive('df-55231448-b3ce-4f41-98de-9cb685a51200')\"\n",
              "              title=\"Convert this dataframe to an interactive table.\"\n",
              "              style=\"display:none;\">\n",
              "        \n",
              "  <svg xmlns=\"http://www.w3.org/2000/svg\" height=\"24px\"viewBox=\"0 0 24 24\"\n",
              "       width=\"24px\">\n",
              "    <path d=\"M0 0h24v24H0V0z\" fill=\"none\"/>\n",
              "    <path d=\"M18.56 5.44l.94 2.06.94-2.06 2.06-.94-2.06-.94-.94-2.06-.94 2.06-2.06.94zm-11 1L8.5 8.5l.94-2.06 2.06-.94-2.06-.94L8.5 2.5l-.94 2.06-2.06.94zm10 10l.94 2.06.94-2.06 2.06-.94-2.06-.94-.94-2.06-.94 2.06-2.06.94z\"/><path d=\"M17.41 7.96l-1.37-1.37c-.4-.4-.92-.59-1.43-.59-.52 0-1.04.2-1.43.59L10.3 9.45l-7.72 7.72c-.78.78-.78 2.05 0 2.83L4 21.41c.39.39.9.59 1.41.59.51 0 1.02-.2 1.41-.59l7.78-7.78 2.81-2.81c.8-.78.8-2.07 0-2.86zM5.41 20L4 18.59l7.72-7.72 1.47 1.35L5.41 20z\"/>\n",
              "  </svg>\n",
              "      </button>\n",
              "      \n",
              "  <style>\n",
              "    .colab-df-container {\n",
              "      display:flex;\n",
              "      flex-wrap:wrap;\n",
              "      gap: 12px;\n",
              "    }\n",
              "\n",
              "    .colab-df-convert {\n",
              "      background-color: #E8F0FE;\n",
              "      border: none;\n",
              "      border-radius: 50%;\n",
              "      cursor: pointer;\n",
              "      display: none;\n",
              "      fill: #1967D2;\n",
              "      height: 32px;\n",
              "      padding: 0 0 0 0;\n",
              "      width: 32px;\n",
              "    }\n",
              "\n",
              "    .colab-df-convert:hover {\n",
              "      background-color: #E2EBFA;\n",
              "      box-shadow: 0px 1px 2px rgba(60, 64, 67, 0.3), 0px 1px 3px 1px rgba(60, 64, 67, 0.15);\n",
              "      fill: #174EA6;\n",
              "    }\n",
              "\n",
              "    [theme=dark] .colab-df-convert {\n",
              "      background-color: #3B4455;\n",
              "      fill: #D2E3FC;\n",
              "    }\n",
              "\n",
              "    [theme=dark] .colab-df-convert:hover {\n",
              "      background-color: #434B5C;\n",
              "      box-shadow: 0px 1px 3px 1px rgba(0, 0, 0, 0.15);\n",
              "      filter: drop-shadow(0px 1px 2px rgba(0, 0, 0, 0.3));\n",
              "      fill: #FFFFFF;\n",
              "    }\n",
              "  </style>\n",
              "\n",
              "      <script>\n",
              "        const buttonEl =\n",
              "          document.querySelector('#df-55231448-b3ce-4f41-98de-9cb685a51200 button.colab-df-convert');\n",
              "        buttonEl.style.display =\n",
              "          google.colab.kernel.accessAllowed ? 'block' : 'none';\n",
              "\n",
              "        async function convertToInteractive(key) {\n",
              "          const element = document.querySelector('#df-55231448-b3ce-4f41-98de-9cb685a51200');\n",
              "          const dataTable =\n",
              "            await google.colab.kernel.invokeFunction('convertToInteractive',\n",
              "                                                     [key], {});\n",
              "          if (!dataTable) return;\n",
              "\n",
              "          const docLinkHtml = 'Like what you see? Visit the ' +\n",
              "            '<a target=\"_blank\" href=https://colab.research.google.com/notebooks/data_table.ipynb>data table notebook</a>'\n",
              "            + ' to learn more about interactive tables.';\n",
              "          element.innerHTML = '';\n",
              "          dataTable['output_type'] = 'display_data';\n",
              "          await google.colab.output.renderOutput(dataTable, element);\n",
              "          const docLink = document.createElement('div');\n",
              "          docLink.innerHTML = docLinkHtml;\n",
              "          element.appendChild(docLink);\n",
              "        }\n",
              "      </script>\n",
              "    </div>\n",
              "  </div>\n",
              "  "
            ]
          },
          "metadata": {},
          "execution_count": 9
        }
      ]
    },
    {
      "cell_type": "code",
      "source": [
        "purchases.info()"
      ],
      "metadata": {
        "id": "Eu--AIeBQ8yK",
        "outputId": "fce8f0f6-4f54-4924-fa29-76eecb07a5a2",
        "colab": {
          "base_uri": "https://localhost:8080/"
        }
      },
      "execution_count": 10,
      "outputs": [
        {
          "output_type": "stream",
          "name": "stdout",
          "text": [
            "<class 'pandas.core.frame.DataFrame'>\n",
            "RangeIndex: 66180 entries, 0 to 66179\n",
            "Data columns (total 4 columns):\n",
            " #   Column               Non-Null Count  Dtype  \n",
            "---  ------               --------------  -----  \n",
            " 0   purchase_created_at  66180 non-null  object \n",
            " 1   purchase_id          66180 non-null  object \n",
            " 2   client_id            66179 non-null  object \n",
            " 3   m_purchase_amount    66180 non-null  float64\n",
            "dtypes: float64(1), object(3)\n",
            "memory usage: 2.0+ MB\n"
          ]
        }
      ]
    },
    {
      "cell_type": "markdown",
      "source": [
        "Названия столбцов корректны, есть отсутствующие значения.\n",
        "Требуется замена типов столбцов для дат"
      ],
      "metadata": {
        "id": "WbZDS1UJQCFe"
      }
    },
    {
      "cell_type": "code",
      "source": [
        "#приведем типы столбцов в соответствие\n",
        "ads['created_at'] = pd.to_datetime(ads['created_at'])\n",
        "leads['lead_created_at'] = pd.to_datetime(leads['lead_created_at'])\n",
        "purchases['purchase_created_at'] = pd.to_datetime(purchases['purchase_created_at'])\n",
        "\n",
        "ads['d_utm_campaign'] = ads['d_utm_campaign'].astype('str')"
      ],
      "metadata": {
        "id": "SFUV6DHaQMNH"
      },
      "execution_count": 11,
      "outputs": []
    },
    {
      "cell_type": "code",
      "source": [
        "#проверим данные на дубликаты\n",
        "ads.duplicated().sum() "
      ],
      "metadata": {
        "colab": {
          "base_uri": "https://localhost:8080/"
        },
        "id": "YfTvqfc5_gF_",
        "outputId": "e8b9b023-cbe5-447e-9339-d368f9e95f04"
      },
      "execution_count": 12,
      "outputs": [
        {
          "output_type": "execute_result",
          "data": {
            "text/plain": [
              "0"
            ]
          },
          "metadata": {},
          "execution_count": 12
        }
      ]
    },
    {
      "cell_type": "code",
      "source": [
        "leads.duplicated().sum() "
      ],
      "metadata": {
        "colab": {
          "base_uri": "https://localhost:8080/"
        },
        "id": "wAMuwVVp_0K1",
        "outputId": "57ee8752-a7a8-4cca-8d4b-901720a29f92"
      },
      "execution_count": 13,
      "outputs": [
        {
          "output_type": "execute_result",
          "data": {
            "text/plain": [
              "0"
            ]
          },
          "metadata": {},
          "execution_count": 13
        }
      ]
    },
    {
      "cell_type": "code",
      "source": [
        "purchases.duplicated().sum() "
      ],
      "metadata": {
        "colab": {
          "base_uri": "https://localhost:8080/"
        },
        "id": "iwgVLjJR_2no",
        "outputId": "b16553b6-f1a7-417d-dd26-faab4b40fd57"
      },
      "execution_count": 14,
      "outputs": [
        {
          "output_type": "execute_result",
          "data": {
            "text/plain": [
              "0"
            ]
          },
          "metadata": {},
          "execution_count": 14
        }
      ]
    },
    {
      "cell_type": "code",
      "source": [
        "#Изучим пропуски в столбцах и определим на что их можно заменить.\n",
        "ads.isna().sum().sort_values(ascending=False)"
      ],
      "metadata": {
        "colab": {
          "base_uri": "https://localhost:8080/"
        },
        "id": "l5IT0OKA_4sW",
        "outputId": "2c4ea651-c3ba-494f-a766-648bc3158c1c"
      },
      "execution_count": 15,
      "outputs": [
        {
          "output_type": "execute_result",
          "data": {
            "text/plain": [
              "d_utm_term         8602\n",
              "created_at            0\n",
              "d_ad_account_id       0\n",
              "d_utm_source          0\n",
              "d_utm_medium          0\n",
              "d_utm_campaign        0\n",
              "d_utm_content         0\n",
              "m_clicks              0\n",
              "m_cost                0\n",
              "dtype: int64"
            ]
          },
          "metadata": {},
          "execution_count": 15
        }
      ]
    },
    {
      "cell_type": "markdown",
      "source": [
        "Метка utm_term - не заполнена для всего датасета ads.\n",
        "Данный столбец можно исключить."
      ],
      "metadata": {
        "id": "uBhKCHKoAjj4"
      }
    },
    {
      "cell_type": "code",
      "source": [
        "ads = ads.drop('d_utm_term', axis=1)"
      ],
      "metadata": {
        "id": "INCErtUkAF2z"
      },
      "execution_count": 16,
      "outputs": []
    },
    {
      "cell_type": "code",
      "source": [
        "leads.isna().sum().sort_values(ascending=False)"
      ],
      "metadata": {
        "colab": {
          "base_uri": "https://localhost:8080/"
        },
        "id": "riXrkC0eA62n",
        "outputId": "d185061f-8752-4366-8ba2-2dc107730bd6"
      },
      "execution_count": 17,
      "outputs": [
        {
          "output_type": "execute_result",
          "data": {
            "text/plain": [
              "d_lead_utm_term        23212\n",
              "d_lead_utm_content     20202\n",
              "d_lead_utm_campaign    13971\n",
              "d_lead_utm_medium      13440\n",
              "d_lead_utm_source      11209\n",
              "client_id               4939\n",
              "lead_created_at            0\n",
              "lead_id                    0\n",
              "dtype: int64"
            ]
          },
          "metadata": {},
          "execution_count": 17
        }
      ]
    },
    {
      "cell_type": "code",
      "source": [
        "#определим долю пропусков дл каждого из столбцов\n",
        "pd.DataFrame(round(leads.isna().mean()*100,).sort_values(ascending=False)).style.background_gradient('coolwarm')"
      ],
      "metadata": {
        "colab": {
          "base_uri": "https://localhost:8080/",
          "height": 300
        },
        "id": "rQnapx5NA-00",
        "outputId": "aff4c26a-eb8f-4025-8838-4ee31842af81"
      },
      "execution_count": 18,
      "outputs": [
        {
          "output_type": "execute_result",
          "data": {
            "text/plain": [
              "<pandas.io.formats.style.Styler at 0x7f1bbf678710>"
            ],
            "text/html": [
              "<style type=\"text/css\">\n",
              "#T_54258_row0_col0 {\n",
              "  background-color: #b40426;\n",
              "  color: #f1f1f1;\n",
              "}\n",
              "#T_54258_row1_col0 {\n",
              "  background-color: #df634e;\n",
              "  color: #f1f1f1;\n",
              "}\n",
              "#T_54258_row2_col0 {\n",
              "  background-color: #f1ccb8;\n",
              "  color: #000000;\n",
              "}\n",
              "#T_54258_row3_col0 {\n",
              "  background-color: #eed0c0;\n",
              "  color: #000000;\n",
              "}\n",
              "#T_54258_row4_col0 {\n",
              "  background-color: #d9dce1;\n",
              "  color: #000000;\n",
              "}\n",
              "#T_54258_row5_col0 {\n",
              "  background-color: #80a3fa;\n",
              "  color: #f1f1f1;\n",
              "}\n",
              "#T_54258_row6_col0, #T_54258_row7_col0 {\n",
              "  background-color: #3b4cc0;\n",
              "  color: #f1f1f1;\n",
              "}\n",
              "</style>\n",
              "<table id=\"T_54258_\" class=\"dataframe\">\n",
              "  <thead>\n",
              "    <tr>\n",
              "      <th class=\"blank level0\" >&nbsp;</th>\n",
              "      <th class=\"col_heading level0 col0\" >0</th>\n",
              "    </tr>\n",
              "  </thead>\n",
              "  <tbody>\n",
              "    <tr>\n",
              "      <th id=\"T_54258_level0_row0\" class=\"row_heading level0 row0\" >d_lead_utm_term</th>\n",
              "      <td id=\"T_54258_row0_col0\" class=\"data row0 col0\" >99.000000</td>\n",
              "    </tr>\n",
              "    <tr>\n",
              "      <th id=\"T_54258_level0_row1\" class=\"row_heading level0 row1\" >d_lead_utm_content</th>\n",
              "      <td id=\"T_54258_row1_col0\" class=\"data row1 col0\" >86.000000</td>\n",
              "    </tr>\n",
              "    <tr>\n",
              "      <th id=\"T_54258_level0_row2\" class=\"row_heading level0 row2\" >d_lead_utm_campaign</th>\n",
              "      <td id=\"T_54258_row2_col0\" class=\"data row2 col0\" >59.000000</td>\n",
              "    </tr>\n",
              "    <tr>\n",
              "      <th id=\"T_54258_level0_row3\" class=\"row_heading level0 row3\" >d_lead_utm_medium</th>\n",
              "      <td id=\"T_54258_row3_col0\" class=\"data row3 col0\" >57.000000</td>\n",
              "    </tr>\n",
              "    <tr>\n",
              "      <th id=\"T_54258_level0_row4\" class=\"row_heading level0 row4\" >d_lead_utm_source</th>\n",
              "      <td id=\"T_54258_row4_col0\" class=\"data row4 col0\" >48.000000</td>\n",
              "    </tr>\n",
              "    <tr>\n",
              "      <th id=\"T_54258_level0_row5\" class=\"row_heading level0 row5\" >client_id</th>\n",
              "      <td id=\"T_54258_row5_col0\" class=\"data row5 col0\" >21.000000</td>\n",
              "    </tr>\n",
              "    <tr>\n",
              "      <th id=\"T_54258_level0_row6\" class=\"row_heading level0 row6\" >lead_created_at</th>\n",
              "      <td id=\"T_54258_row6_col0\" class=\"data row6 col0\" >0.000000</td>\n",
              "    </tr>\n",
              "    <tr>\n",
              "      <th id=\"T_54258_level0_row7\" class=\"row_heading level0 row7\" >lead_id</th>\n",
              "      <td id=\"T_54258_row7_col0\" class=\"data row7 col0\" >0.000000</td>\n",
              "    </tr>\n",
              "  </tbody>\n",
              "</table>\n"
            ]
          },
          "metadata": {},
          "execution_count": 18
        }
      ]
    },
    {
      "cell_type": "code",
      "source": [
        "#удалим практически полностью отсутствующие столбцы\n",
        "leads = leads.drop(['d_lead_utm_term'], axis=1)"
      ],
      "metadata": {
        "id": "mE_GUVXbBMJl"
      },
      "execution_count": 19,
      "outputs": []
    },
    {
      "cell_type": "code",
      "source": [
        "leads = leads.drop(['d_lead_utm_content'], axis=1)"
      ],
      "metadata": {
        "id": "Rj9yegA9Ac3E"
      },
      "execution_count": 20,
      "outputs": []
    },
    {
      "cell_type": "code",
      "source": [
        "purchases.isna().sum().sort_values(ascending=False)"
      ],
      "metadata": {
        "colab": {
          "base_uri": "https://localhost:8080/"
        },
        "id": "3hr1UsrZBk-n",
        "outputId": "bec79376-85ec-45a7-8312-d53263e14919"
      },
      "execution_count": 21,
      "outputs": [
        {
          "output_type": "execute_result",
          "data": {
            "text/plain": [
              "client_id              1\n",
              "purchase_created_at    0\n",
              "purchase_id            0\n",
              "m_purchase_amount      0\n",
              "dtype: int64"
            ]
          },
          "metadata": {},
          "execution_count": 21
        }
      ]
    },
    {
      "cell_type": "code",
      "source": [
        "#удалим отсутствующие значение. Использовать данные без привязки к ID клиента некорректно\n",
        "purchases['client_id'] = purchases['client_id'].dropna()"
      ],
      "metadata": {
        "id": "0TFHMkY4Bp5C"
      },
      "execution_count": 22,
      "outputs": []
    },
    {
      "cell_type": "markdown",
      "source": [
        "### 1.4. Выводы"
      ],
      "metadata": {
        "id": "3RJ3IF9xCvVP"
      }
    },
    {
      "cell_type": "markdown",
      "source": [
        "В работу было принято три массива данных.\n",
        "Они были проверены на отсутствующие значения, дубликаты.\n",
        "Столбцы приведены в соответствии с типом данных.\n",
        "\n",
        "Можно приступать к анализу информации."
      ],
      "metadata": {
        "id": "ZpZyuPe4Cx3r"
      }
    },
    {
      "cell_type": "markdown",
      "source": [
        "## Анализ метрик"
      ],
      "metadata": {
        "id": "v9PCGda0EemO"
      }
    },
    {
      "cell_type": "markdown",
      "source": [
        "### 2.1. Объединение таблиц"
      ],
      "metadata": {
        "id": "zo2mpZqsM2iJ"
      }
    },
    {
      "cell_type": "markdown",
      "source": [
        "Присоединим таблицу с лидами к таблице с рекламой\n",
        "\n",
        "Связь между рекламой и заявкой определяется через utm метки - если набор меток из рекламного объявления совпадает с тем набором, который есть в заявке, то мы можем определить сколько денег было потрачено на привлечение этого лида "
      ],
      "metadata": {
        "id": "8HIdwSTn1K4p"
      }
    },
    {
      "cell_type": "code",
      "source": [
        "data = ads.merge(leads, left_on=('d_utm_source', 'd_utm_medium',  'd_utm_campaign'), right_on=('d_lead_utm_source', 'd_lead_utm_medium', 'd_lead_utm_campaign'), how='inner')\n"
      ],
      "metadata": {
        "id": "3QN-t1kBMy3U"
      },
      "execution_count": 23,
      "outputs": []
    },
    {
      "cell_type": "markdown",
      "source": [
        "Добавим таблицу с продажами.\n",
        "\n",
        "Атрибуция лид - покупка\n",
        "\n",
        "Каждому лиду “в зачет” идут только те покупки, которые клиент сделал в первые 15 дней после создания заявки. Из-за особенности бизнеса соотношение лидов и продаж - многие ко многим. Существующий клиент может купить услугу повторно через заведение новой заявки, а может создать две заявки подряд и после этого сделать покупку."
      ],
      "metadata": {
        "id": "dQGMICbKIhnW"
      }
    },
    {
      "cell_type": "code",
      "source": [
        "all_data = data.merge(purchases, left_on=('client_id'), right_on=('client_id'), how='inner')"
      ],
      "metadata": {
        "id": "K45mswGzJnv6"
      },
      "execution_count": 24,
      "outputs": []
    },
    {
      "cell_type": "code",
      "source": [
        "need_data = all_data.loc[(all_data['purchase_created_at'] - all_data['lead_created_at']).dt.days <= 15]"
      ],
      "metadata": {
        "id": "ZxdY7xIxHEp2"
      },
      "execution_count": 25,
      "outputs": []
    },
    {
      "cell_type": "code",
      "source": [
        "#Посчитаем количество кликов и расходы для каждой из компаний\n",
        "clicks = need_data.pivot_table(index=[('d_utm_campaign')], values=('m_clicks', 'm_cost'), aggfunc='sum')\n",
        "clicks = clicks.reset_index()"
      ],
      "metadata": {
        "id": "Z2LsJrpXB-LC"
      },
      "execution_count": 26,
      "outputs": []
    },
    {
      "cell_type": "code",
      "source": [
        "#добавим количество лидов и покупок\n",
        "ppl_count = need_data.pivot_table(index=[('d_utm_campaign')], values=('lead_id', 'purchase_id'), aggfunc='count')\n",
        "ppl_count = ppl_count.reset_index()"
      ],
      "metadata": {
        "id": "7sE6NSsuRa5g"
      },
      "execution_count": 27,
      "outputs": []
    },
    {
      "cell_type": "code",
      "source": [
        "#добавим выручку от продаж\n",
        "purchase_sum = need_data.pivot_table(index=[('d_utm_campaign')], values=('m_purchase_amount'), aggfunc='sum')\n",
        "purchase_sum = purchase_sum.reset_index()"
      ],
      "metadata": {
        "id": "Wm_ExZp1R4mw"
      },
      "execution_count": 28,
      "outputs": []
    },
    {
      "cell_type": "code",
      "source": [
        "#Соберем итоговую таблицу\n",
        "total_data = need_data[['created_at', 'd_utm_source', 'd_utm_medium', 'd_utm_campaign']]"
      ],
      "metadata": {
        "id": "hDqTYGfjTkoj"
      },
      "execution_count": 29,
      "outputs": []
    },
    {
      "cell_type": "code",
      "source": [
        "total_data = total_data.merge(clicks, left_on=('d_utm_campaign'), right_on=('d_utm_campaign'), how='inner')\n",
        "total_data = total_data.merge(ppl_count, left_on=('d_utm_campaign'), right_on=('d_utm_campaign'), how='inner')\n",
        "total_data = total_data.merge(purchase_sum, left_on=('d_utm_campaign'), right_on=('d_utm_campaign'), how='inner')"
      ],
      "metadata": {
        "id": "WGokl3PxVRmJ"
      },
      "execution_count": 30,
      "outputs": []
    },
    {
      "cell_type": "code",
      "source": [
        "#добавим метрики CPL и ROAS\n",
        "total_data['cpl'] = total_data['m_cost'] / total_data['lead_id']\n",
        "total_data['roas'] = total_data['m_purchase_amount'] / total_data['m_cost']"
      ],
      "metadata": {
        "id": "dUx1pXF5Sf02"
      },
      "execution_count": 31,
      "outputs": []
    },
    {
      "cell_type": "code",
      "source": [
        "#оставим только уникальные значения по кампаниям\n",
        "total_data = total_data.drop_duplicates (subset=['d_utm_campaign'])\n",
        "\n",
        "#переименуем столбцы удобно\n",
        "total_data.columns = ['date', 'utm_source', 'utm_medium', 'utm_campaign', 'click_count', 'click_costs_sum', 'leads_count', 'purchases_count', 'purchases_sum', 'cpl', 'roas']"
      ],
      "metadata": {
        "id": "fe6Yn7LMgo0_"
      },
      "execution_count": 32,
      "outputs": []
    },
    {
      "cell_type": "code",
      "source": [
        "total_data.head()"
      ],
      "metadata": {
        "id": "jnBe9YNkEq3Z",
        "colab": {
          "base_uri": "https://localhost:8080/",
          "height": 357
        },
        "outputId": "9077d37e-78fa-4971-b1d2-9d254471a96c"
      },
      "execution_count": 33,
      "outputs": [
        {
          "output_type": "execute_result",
          "data": {
            "text/plain": [
              "             date utm_source utm_medium utm_campaign  click_count  \\\n",
              "0      2022-08-08     yandex        cpc     48306435     199200.0   \n",
              "143520 2022-08-08     yandex        cpc     48306450    4610304.0   \n",
              "833520 2022-08-08     yandex        cpc     48306487     142560.0   \n",
              "894185 2022-08-08     yandex        cpc     48306518      17225.0   \n",
              "954510 2022-08-08     yandex        cpc     48306473      42066.0   \n",
              "\n",
              "        click_costs_sum  leads_count  purchases_count  purchases_sum  \\\n",
              "0          4.797818e+06       143520           143520   6.912267e+08   \n",
              "143520     1.241578e+08       690000           690000   4.016471e+09   \n",
              "833520     3.079546e+06        60665            60665   3.628032e+08   \n",
              "894185     3.308280e+05        60325            60325   1.095767e+08   \n",
              "954510     7.608955e+05        17575            17575   7.051830e+07   \n",
              "\n",
              "               cpl        roas  \n",
              "0        33.429616  144.071041  \n",
              "143520  179.938829   32.349732  \n",
              "833520   50.763144  117.810598  \n",
              "894185    5.484094  331.219676  \n",
              "954510   43.294197   92.678034  "
            ],
            "text/html": [
              "\n",
              "  <div id=\"df-12a1e10d-83e6-4829-8a1a-033eef2492d0\">\n",
              "    <div class=\"colab-df-container\">\n",
              "      <div>\n",
              "<style scoped>\n",
              "    .dataframe tbody tr th:only-of-type {\n",
              "        vertical-align: middle;\n",
              "    }\n",
              "\n",
              "    .dataframe tbody tr th {\n",
              "        vertical-align: top;\n",
              "    }\n",
              "\n",
              "    .dataframe thead th {\n",
              "        text-align: right;\n",
              "    }\n",
              "</style>\n",
              "<table border=\"1\" class=\"dataframe\">\n",
              "  <thead>\n",
              "    <tr style=\"text-align: right;\">\n",
              "      <th></th>\n",
              "      <th>date</th>\n",
              "      <th>utm_source</th>\n",
              "      <th>utm_medium</th>\n",
              "      <th>utm_campaign</th>\n",
              "      <th>click_count</th>\n",
              "      <th>click_costs_sum</th>\n",
              "      <th>leads_count</th>\n",
              "      <th>purchases_count</th>\n",
              "      <th>purchases_sum</th>\n",
              "      <th>cpl</th>\n",
              "      <th>roas</th>\n",
              "    </tr>\n",
              "  </thead>\n",
              "  <tbody>\n",
              "    <tr>\n",
              "      <th>0</th>\n",
              "      <td>2022-08-08</td>\n",
              "      <td>yandex</td>\n",
              "      <td>cpc</td>\n",
              "      <td>48306435</td>\n",
              "      <td>199200.0</td>\n",
              "      <td>4.797818e+06</td>\n",
              "      <td>143520</td>\n",
              "      <td>143520</td>\n",
              "      <td>6.912267e+08</td>\n",
              "      <td>33.429616</td>\n",
              "      <td>144.071041</td>\n",
              "    </tr>\n",
              "    <tr>\n",
              "      <th>143520</th>\n",
              "      <td>2022-08-08</td>\n",
              "      <td>yandex</td>\n",
              "      <td>cpc</td>\n",
              "      <td>48306450</td>\n",
              "      <td>4610304.0</td>\n",
              "      <td>1.241578e+08</td>\n",
              "      <td>690000</td>\n",
              "      <td>690000</td>\n",
              "      <td>4.016471e+09</td>\n",
              "      <td>179.938829</td>\n",
              "      <td>32.349732</td>\n",
              "    </tr>\n",
              "    <tr>\n",
              "      <th>833520</th>\n",
              "      <td>2022-08-08</td>\n",
              "      <td>yandex</td>\n",
              "      <td>cpc</td>\n",
              "      <td>48306487</td>\n",
              "      <td>142560.0</td>\n",
              "      <td>3.079546e+06</td>\n",
              "      <td>60665</td>\n",
              "      <td>60665</td>\n",
              "      <td>3.628032e+08</td>\n",
              "      <td>50.763144</td>\n",
              "      <td>117.810598</td>\n",
              "    </tr>\n",
              "    <tr>\n",
              "      <th>894185</th>\n",
              "      <td>2022-08-08</td>\n",
              "      <td>yandex</td>\n",
              "      <td>cpc</td>\n",
              "      <td>48306518</td>\n",
              "      <td>17225.0</td>\n",
              "      <td>3.308280e+05</td>\n",
              "      <td>60325</td>\n",
              "      <td>60325</td>\n",
              "      <td>1.095767e+08</td>\n",
              "      <td>5.484094</td>\n",
              "      <td>331.219676</td>\n",
              "    </tr>\n",
              "    <tr>\n",
              "      <th>954510</th>\n",
              "      <td>2022-08-08</td>\n",
              "      <td>yandex</td>\n",
              "      <td>cpc</td>\n",
              "      <td>48306473</td>\n",
              "      <td>42066.0</td>\n",
              "      <td>7.608955e+05</td>\n",
              "      <td>17575</td>\n",
              "      <td>17575</td>\n",
              "      <td>7.051830e+07</td>\n",
              "      <td>43.294197</td>\n",
              "      <td>92.678034</td>\n",
              "    </tr>\n",
              "  </tbody>\n",
              "</table>\n",
              "</div>\n",
              "      <button class=\"colab-df-convert\" onclick=\"convertToInteractive('df-12a1e10d-83e6-4829-8a1a-033eef2492d0')\"\n",
              "              title=\"Convert this dataframe to an interactive table.\"\n",
              "              style=\"display:none;\">\n",
              "        \n",
              "  <svg xmlns=\"http://www.w3.org/2000/svg\" height=\"24px\"viewBox=\"0 0 24 24\"\n",
              "       width=\"24px\">\n",
              "    <path d=\"M0 0h24v24H0V0z\" fill=\"none\"/>\n",
              "    <path d=\"M18.56 5.44l.94 2.06.94-2.06 2.06-.94-2.06-.94-.94-2.06-.94 2.06-2.06.94zm-11 1L8.5 8.5l.94-2.06 2.06-.94-2.06-.94L8.5 2.5l-.94 2.06-2.06.94zm10 10l.94 2.06.94-2.06 2.06-.94-2.06-.94-.94-2.06-.94 2.06-2.06.94z\"/><path d=\"M17.41 7.96l-1.37-1.37c-.4-.4-.92-.59-1.43-.59-.52 0-1.04.2-1.43.59L10.3 9.45l-7.72 7.72c-.78.78-.78 2.05 0 2.83L4 21.41c.39.39.9.59 1.41.59.51 0 1.02-.2 1.41-.59l7.78-7.78 2.81-2.81c.8-.78.8-2.07 0-2.86zM5.41 20L4 18.59l7.72-7.72 1.47 1.35L5.41 20z\"/>\n",
              "  </svg>\n",
              "      </button>\n",
              "      \n",
              "  <style>\n",
              "    .colab-df-container {\n",
              "      display:flex;\n",
              "      flex-wrap:wrap;\n",
              "      gap: 12px;\n",
              "    }\n",
              "\n",
              "    .colab-df-convert {\n",
              "      background-color: #E8F0FE;\n",
              "      border: none;\n",
              "      border-radius: 50%;\n",
              "      cursor: pointer;\n",
              "      display: none;\n",
              "      fill: #1967D2;\n",
              "      height: 32px;\n",
              "      padding: 0 0 0 0;\n",
              "      width: 32px;\n",
              "    }\n",
              "\n",
              "    .colab-df-convert:hover {\n",
              "      background-color: #E2EBFA;\n",
              "      box-shadow: 0px 1px 2px rgba(60, 64, 67, 0.3), 0px 1px 3px 1px rgba(60, 64, 67, 0.15);\n",
              "      fill: #174EA6;\n",
              "    }\n",
              "\n",
              "    [theme=dark] .colab-df-convert {\n",
              "      background-color: #3B4455;\n",
              "      fill: #D2E3FC;\n",
              "    }\n",
              "\n",
              "    [theme=dark] .colab-df-convert:hover {\n",
              "      background-color: #434B5C;\n",
              "      box-shadow: 0px 1px 3px 1px rgba(0, 0, 0, 0.15);\n",
              "      filter: drop-shadow(0px 1px 2px rgba(0, 0, 0, 0.3));\n",
              "      fill: #FFFFFF;\n",
              "    }\n",
              "  </style>\n",
              "\n",
              "      <script>\n",
              "        const buttonEl =\n",
              "          document.querySelector('#df-12a1e10d-83e6-4829-8a1a-033eef2492d0 button.colab-df-convert');\n",
              "        buttonEl.style.display =\n",
              "          google.colab.kernel.accessAllowed ? 'block' : 'none';\n",
              "\n",
              "        async function convertToInteractive(key) {\n",
              "          const element = document.querySelector('#df-12a1e10d-83e6-4829-8a1a-033eef2492d0');\n",
              "          const dataTable =\n",
              "            await google.colab.kernel.invokeFunction('convertToInteractive',\n",
              "                                                     [key], {});\n",
              "          if (!dataTable) return;\n",
              "\n",
              "          const docLinkHtml = 'Like what you see? Visit the ' +\n",
              "            '<a target=\"_blank\" href=https://colab.research.google.com/notebooks/data_table.ipynb>data table notebook</a>'\n",
              "            + ' to learn more about interactive tables.';\n",
              "          element.innerHTML = '';\n",
              "          dataTable['output_type'] = 'display_data';\n",
              "          await google.colab.output.renderOutput(dataTable, element);\n",
              "          const docLink = document.createElement('div');\n",
              "          docLink.innerHTML = docLinkHtml;\n",
              "          element.appendChild(docLink);\n",
              "        }\n",
              "      </script>\n",
              "    </div>\n",
              "  </div>\n",
              "  "
            ]
          },
          "metadata": {},
          "execution_count": 33
        }
      ]
    },
    {
      "cell_type": "code",
      "source": [
        "total_data.to_excel(\"beauty_salon_analitics.xlsx\")"
      ],
      "metadata": {
        "id": "AYkWcXz4hXHe"
      },
      "execution_count": null,
      "outputs": []
    },
    {
      "cell_type": "markdown",
      "source": [
        "### 2.2. Графики CPL и ROAS"
      ],
      "metadata": {
        "id": "IA-2dJo9rdVe"
      }
    },
    {
      "cell_type": "code",
      "source": [
        "#соотнесем расходы на лиды и окупаемость рекламы.\n",
        "total_data.plot.bar(x='utm_campaign', y='cpl', figsize=(10,6))\n",
        "plt.title('Анализ стоимости привлечения лидов для каждой из кампаний​')\n",
        "plt.show()"
      ],
      "metadata": {
        "id": "Rf3k4ZcukSmE",
        "colab": {
          "base_uri": "https://localhost:8080/",
          "height": 445
        },
        "outputId": "478c4e81-91b2-4f9a-f66f-49529576f363"
      },
      "execution_count": 51,
      "outputs": [
        {
          "output_type": "display_data",
          "data": {
            "text/plain": [
              "<Figure size 720x432 with 1 Axes>"
            ],
            "image/png": "[encoded data removed]"
          },
          "metadata": {
            "needs_background": "light"
          }
        }
      ]
    },
    {
      "cell_type": "code",
      "source": [
        "total_data.plot.bar(x='utm_campaign', y='roas', figsize=(10,6))\n",
        "plt.title('Анализ окупаемости рекламы для каждой из кампаний​')\n",
        "plt.show()"
      ],
      "metadata": {
        "colab": {
          "base_uri": "https://localhost:8080/",
          "height": 445
        },
        "id": "_uzOYLHq03ss",
        "outputId": "7ba2ef17-09f1-4c56-936a-0545fe3741de"
      },
      "execution_count": 52,
      "outputs": [
        {
          "output_type": "display_data",
          "data": {
            "text/plain": [
              "<Figure size 720x432 with 1 Axes>"
            ],
            "image/png": "[encoded data removed]"
          },
          "metadata": {
            "needs_background": "light"
          }
        }
      ]
    },
    {
      "cell_type": "code",
      "source": [
        "cpl_roas = total_data.groupby('utm_campaign')['cpl', 'roas'].sum()\n",
        "cpl_roas.plot(figsize=(15, 5), title=('Анализ стоимости привлечения лидов и окупаемости рекламы для каждой из кампаний')) \n",
        "plt.show()"
      ],
      "metadata": {
        "colab": {
          "base_uri": "https://localhost:8080/",
          "height": 406
        },
        "id": "ZqpNxacGwskN",
        "outputId": "5aa7902c-f475-4c5a-ba7b-6d67b37eb64d"
      },
      "execution_count": 53,
      "outputs": [
        {
          "output_type": "stream",
          "name": "stderr",
          "text": [
            "/usr/local/lib/python3.7/dist-packages/ipykernel_launcher.py:1: FutureWarning: Indexing with multiple keys (implicitly converted to a tuple of keys) will be deprecated, use a list instead.\n",
            "  \"\"\"Entry point for launching an IPython kernel.\n"
          ]
        },
        {
          "output_type": "display_data",
          "data": {
            "text/plain": [
              "<Figure size 1080x360 with 1 Axes>"
            ],
            "image/png": "[encoded data removed]"
          },
          "metadata": {
            "needs_background": "light"
          }
        }
      ]
    },
    {
      "cell_type": "code",
      "source": [],
      "metadata": {
        "id": "8D6IzvL40uIf"
      },
      "execution_count": null,
      "outputs": []
    }
  ]
}